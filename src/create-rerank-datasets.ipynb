{
 "cells": [
  {
   "cell_type": "code",
   "execution_count": 2,
   "id": "259bb161",
   "metadata": {},
   "outputs": [],
   "source": [
    "from tira.rest_api_client import Client\n",
    "import pandas as pd\n",
    "from tqdm import tqdm\n",
    "import ir_datasets\n",
    "import json\n",
    "\n",
    "tira = Client()\n",
    "\n",
    "TASK = 'ir-benchmarks'\n",
    "TEAM = 'ows'\n",
    "\n",
    "datasets = {\n",
    "    'longeval/heldout':'longeval-heldout-20230513-training',\n",
    "    'longeval/b-long-september': 'longeval-long-september-20230513-training',\n",
    "    'longeval/a-short-july': 'longeval-short-july-20230513-training',\n",
    "    'longeval/train': 'longeval-train-20230513-training'\n",
    "}\n",
    "\n",
    "approaches = ['PyTerrier-Index >> BM25']\n",
    "\n",
    "import pyterrier as pt\n",
    "\n",
    "if not pt.started():\n",
    "    # needed in the image so that pyterrier can find the shared libs\n",
    "    !ln -s /usr/lib/jvm/java-11-openjdk/lib/server/libjvm.so /usr/lib/jvm/java-11-openjdk/lib/\n",
    "    pt.init()"
   ]
  },
  {
   "cell_type": "code",
   "execution_count": null,
   "id": "e9a4eae9",
   "metadata": {},
   "outputs": [
    {
     "name": "stdout",
     "output_type": "stream",
     "text": [
      "longeval/heldout: PyTerrier-Index >> BM25\n"
     ]
    }
   ],
   "source": [
    "for irds_id, dataset in datasets.items():\n",
    "    for approach in approaches:\n",
    "        inputRun = tira.get_run_output(f'{TASK}/{TEAM}/{approach}', dataset) + '/run.txt'\n",
    "        !mkdir -p dataset\n",
    "        print(irds_id + ': ' + approach)\n",
    "        \n",
    "        !/irds_cli.sh --ir_datasets_id $irds_id --skip_qrels true --output_dataset_path $dataset --rerank $inputRun --include_original false"
   ]
  }
 ],
 "metadata": {
  "kernelspec": {
   "display_name": "Python 3 (ipykernel)",
   "language": "python",
   "name": "python3"
  },
  "language_info": {
   "codemirror_mode": {
    "name": "ipython",
    "version": 3
   },
   "file_extension": ".py",
   "mimetype": "text/x-python",
   "name": "python",
   "nbconvert_exporter": "python",
   "pygments_lexer": "ipython3",
   "version": "3.8.10"
  }
 },
 "nbformat": 4,
 "nbformat_minor": 5
}
