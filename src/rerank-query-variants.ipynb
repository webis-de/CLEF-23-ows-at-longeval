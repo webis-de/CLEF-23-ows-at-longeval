{
 "cells": [
  {
   "cell_type": "code",
   "execution_count": 2,
   "id": "99606508",
   "metadata": {},
   "outputs": [],
   "source": [
    "from tira.rest_api_client import Client\n",
    "import pandas as pd\n",
    "from tqdm import tqdm\n",
    "import ir_datasets\n",
    "import json\n",
    "from pathlib import Path\n",
    "from tira.third_party_integrations import ensure_pyterrier_is_loaded, load_rerank_data, normalize_run\n",
    "\n",
    "datasets = {\n",
    "    'longeval/heldout': 'longeval-heldout-20230513-training',\n",
    "    'longeval/b-long-september': 'longeval-long-september-20230513-training',\n",
    "    'longeval/a-short-july': 'longeval-short-july-20230513-training',\n",
    "    'longeval/train': 'longeval-train-20230513-training'\n",
    "}\n",
    "\n",
    "dataset_to_index = {\n",
    "    'longeval-short-july-20230513-training': '/mnt/ceph/tira/data/runs/longeval-short-july-20230513-training/ows/2023-05-13-19-41-17/output/index/data.properties',\n",
    "    'longeval-train-20230513-training': '/mnt/ceph/tira/data/runs/longeval-train-20230513-training/ows/2023-05-13-19-40-07/output/index/data.properties',\n",
    "    'longeval-heldout-20230513-training': '/mnt/ceph/tira/data/runs/longeval-heldout-20230513-training/ows/./2023-05-13-19-40-24/output/index/data.properties',\n",
    "    'longeval-long-september-20230513-training': '/mnt/ceph/tira/data/runs/longeval-long-september-20230513-training/ows/2023-05-13-19-40-47/output/index/data.properties',\n",
    "}\n",
    "\n",
    "import pyterrier as pt\n",
    "\n",
    "if not pt.started():\n",
    "    # needed in the image so that pyterrier can find the shared libs\n",
    "    !ln -s /usr/lib/jvm/java-11-openjdk/lib/server/libjvm.so /usr/lib/jvm/java-11-openjdk/lib/\n",
    "    pt.init()\n",
    "\n",
    "def expanded_data(rerank_data, expansion_prompt, num_expansions):\n",
    "    rerank_data = pt.io.read_topics(f'/mnt/ceph/tira/data/datasets/training-datasets/ir-benchmarks/{rerank_data}/queries.xml', 'trecxml')\n",
    "    additional_rerank_data = []\n",
    "    expansions = json.load(open('query-variants.json', 'r'))[expansion_prompt]\n",
    "    \n",
    "    for _, i in rerank_data.iterrows():\n",
    "        expansions_for_query = expansions.get(i['query'].strip(), [])\n",
    "        expansions_for_query = [i for i in expansions_for_query if len(i.split(' ')) > 1]\n",
    "        \n",
    "        if len(expansions_for_query) < 6:\n",
    "            continue\n",
    "        \n",
    "        expansions_for_query = expansions_for_query[:num_expansions]\n",
    "        for expansion_id, expansion in zip(range(len(expansions_for_query)), expansions_for_query):\n",
    "            i_exp = i.to_dict().copy()\n",
    "            i_exp['qid'] = i_exp['qid'] + '___' + str(expansion_id)\n",
    "            i_exp['query'] = expansion\n",
    "            additional_rerank_data += [i_exp]\n",
    "        \n",
    "    return pd.concat([rerank_data, pd.DataFrame(additional_rerank_data)])\n",
    "\n",
    "def rerank_expansion(rerank_data, wmodel, query_variants, expansion_prompt):\n",
    "    output_directory = Path(rerank_data) / 'query-variant-runs'\n",
    "    output_file =  output_directory / f'{wmodel}-{query_variants}-variants-prompt-{expansion_prompt}-run.txt.gz'\n",
    "    \n",
    "    print(f'Use output {output_file}')\n",
    "    if output_file.exists():\n",
    "        print('Already exists')\n",
    "        return\n",
    "    \n",
    "    index = pt.IndexFactory.of(dataset_to_index[rerank_data])\n",
    "    \n",
    "    print(f'Load Data from {rerank_data} to re-rank with {wmodel}.')\n",
    "    rerank_data = expanded_data(rerank_data, expansion_prompt, query_variants)\n",
    "    rerank_data['query'] = rerank_data['query'].apply(lambda i: \"\".join([x if x.isalnum() else \" \" for x in i]))\n",
    "    \n",
    "    print('Ranking...')\n",
    "    pipeline = pt.text.scorer(wmodel=wmodel, verbose=True, body_attr='text')\n",
    "\n",
    "    pipeline = pt.BatchRetrieve(index, wmodel=wmodel, verbose=True)\n",
    "    \n",
    "    result = pipeline(rerank_data)\n",
    "\n",
    "    print(f'writing run file to:\\t{output_file}')\n",
    "    Path(output_directory).mkdir(parents=True, exist_ok=True)\n",
    "    pt.io.write_results(normalize_run(result, 1000), output_file, run_name=wmodel)\n"
   ]
  },
  {
   "cell_type": "code",
   "execution_count": 4,
   "id": "256f611b",
   "metadata": {},
   "outputs": [
    {
     "name": "stdout",
     "output_type": "stream",
     "text": [
      "Use output longeval-heldout-20230513-training/query-variant-runs/BM25-10-variants-prompt-1-run.txt.gz\n",
      "Already exists\n"
     ]
    }
   ],
   "source": [
    "\n",
    "rerank_expansion('longeval-heldout-20230513-training', 'BM25', 10, '1')"
   ]
  },
  {
   "cell_type": "code",
   "execution_count": 6,
   "id": "387dc84d",
   "metadata": {},
   "outputs": [
    {
     "name": "stdout",
     "output_type": "stream",
     "text": [
      "Use output longeval-short-july-20230513-training/query-variant-runs/BM25-10-variants-prompt-1-run.txt.gz\n",
      "Already exists\n"
     ]
    }
   ],
   "source": [
    "rerank_expansion('longeval-short-july-20230513-training', 'BM25', 10, '1')"
   ]
  },
  {
   "cell_type": "code",
   "execution_count": 7,
   "id": "e88a6f86",
   "metadata": {},
   "outputs": [
    {
     "name": "stdout",
     "output_type": "stream",
     "text": [
      "Use output longeval-long-september-20230513-training/query-variant-runs/BM25-10-variants-prompt-1-run.txt.gz\n",
      "Load Data from longeval-long-september-20230513-training to re-rank with BM25.\n",
      "Ranking...\n"
     ]
    },
    {
     "name": "stderr",
     "output_type": "stream",
     "text": [
      "BR(BM25): 100%|████████████████████████████████████████████████████████████████████████████████████████████████| 4688/4688 [06:35<00:00, 11.84q/s]\n"
     ]
    },
    {
     "name": "stdout",
     "output_type": "stream",
     "text": [
      "writing run file to:\tlongeval-long-september-20230513-training/query-variant-runs/BM25-10-variants-prompt-1-run.txt.gz\n"
     ]
    }
   ],
   "source": [
    "rerank_expansion('longeval-long-september-20230513-training', 'BM25', 10, '1')"
   ]
  },
  {
   "cell_type": "code",
   "execution_count": 9,
   "id": "b1ac2cd7",
   "metadata": {},
   "outputs": [
    {
     "name": "stdout",
     "output_type": "stream",
     "text": [
      "Use output longeval-train-20230513-training/query-variant-runs/BM25-10-variants-prompt-1-run.txt.gz\n",
      "Already exists\n"
     ]
    }
   ],
   "source": [
    "rerank_expansion('longeval-train-20230513-training', 'BM25', 10, '1')"
   ]
  }
 ],
 "metadata": {
  "kernelspec": {
   "display_name": "Python 3 (ipykernel)",
   "language": "python",
   "name": "python3"
  },
  "language_info": {
   "codemirror_mode": {
    "name": "ipython",
    "version": 3
   },
   "file_extension": ".py",
   "mimetype": "text/x-python",
   "name": "python",
   "nbconvert_exporter": "python",
   "pygments_lexer": "ipython3",
   "version": "3.7.13"
  }
 },
 "nbformat": 4,
 "nbformat_minor": 5
}
