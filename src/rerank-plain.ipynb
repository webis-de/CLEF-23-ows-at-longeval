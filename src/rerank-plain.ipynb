{
 "cells": [
  {
   "cell_type": "code",
   "execution_count": 1,
   "id": "fb162e40",
   "metadata": {},
   "outputs": [
    {
     "name": "stdout",
     "output_type": "stream",
     "text": [
      "ln: target '/usr/lib/jvm/java-11-openjdk/lib/' is not a directory: No such file or directory\r\n"
     ]
    },
    {
     "name": "stderr",
     "output_type": "stream",
     "text": [
      "PyTerrier 0.9.2 has loaded Terrier 5.7 (built by craigm on 2022-11-10 18:30) and terrier-helper 0.0.7\n",
      "\n",
      "No etc/terrier.properties, using terrier.default.properties for bootstrap configuration.\n"
     ]
    }
   ],
   "source": [
    "from tira.rest_api_client import Client\n",
    "import pandas as pd\n",
    "from tqdm import tqdm\n",
    "import ir_datasets\n",
    "import json\n",
    "from pathlib import Path\n",
    "from tira.third_party_integrations import ensure_pyterrier_is_loaded, load_rerank_data, normalize_run\n",
    "\n",
    "datasets = {\n",
    "    'longeval/heldout': 'longeval-heldout-20230513-training',\n",
    "    'longeval/b-long-september': 'longeval-long-september-20230513-training',\n",
    "    'longeval/a-short-july': 'longeval-short-july-20230513-training',\n",
    "    'longeval/train': 'longeval-train-20230513-training'\n",
    "}\n",
    "\n",
    "import pyterrier as pt\n",
    "\n",
    "if not pt.started():\n",
    "    # needed in the image so that pyterrier can find the shared libs\n",
    "    !ln -s /usr/lib/jvm/java-11-openjdk/lib/server/libjvm.so /usr/lib/jvm/java-11-openjdk/lib/\n",
    "    pt.init()\n",
    "\n",
    "def rerank(rerank_data, wmodel):\n",
    "    output_directory = Path(rerank_data) / 'plain-runs'\n",
    "    output_file =  output_directory / f'{wmodel}-run.txt.gz'\n",
    "    print(f'Use output {output_file}')\n",
    "    if output_file.exists():\n",
    "        print('Already exists')\n",
    "        return\n",
    "    \n",
    "    print(f'Load Data from {rerank_data} to re-rank with {wmodel}.')\n",
    "    rerank_data = load_rerank_data(rerank_data)\n",
    "    print('Re-rank Data')\n",
    "    pipeline = pt.text.scorer(wmodel=wmodel, verbose=True, body_attr='text')\n",
    "    \n",
    "    rerank_data['query'] = rerank_data['query'].apply(lambda i: \"\".join([x if x.isalnum() else \" \" for x in i]))\n",
    "\n",
    "    result = pipeline(rerank_data)\n",
    "\n",
    "    print(f'writing run file to:\\t{output_file}')\n",
    "    Path(output_directory).mkdir(parents=True, exist_ok=True)\n",
    "    pt.io.write_results(normalize_run(result, 1000), output_file, run_name=wmodel)\n"
   ]
  },
  {
   "cell_type": "code",
   "execution_count": 2,
   "id": "81006f20",
   "metadata": {
    "scrolled": true
   },
   "outputs": [
    {
     "name": "stdout",
     "output_type": "stream",
     "text": [
      "Use output longeval-heldout-20230513-training/plain-runs/BM25-run.txt.gz\n",
      "Already exists\n"
     ]
    }
   ],
   "source": [
    "rerank('longeval-heldout-20230513-training', 'BM25')"
   ]
  },
  {
   "cell_type": "code",
   "execution_count": 5,
   "id": "a81c6e35",
   "metadata": {},
   "outputs": [],
   "source": [
    "!rm -Rf longeval-heldout-20230513-training/plain-runs"
   ]
  }
 ],
 "metadata": {
  "kernelspec": {
   "display_name": "Python 3 (ipykernel)",
   "language": "python",
   "name": "python3"
  },
  "language_info": {
   "codemirror_mode": {
    "name": "ipython",
    "version": 3
   },
   "file_extension": ".py",
   "mimetype": "text/x-python",
   "name": "python",
   "nbconvert_exporter": "python",
   "pygments_lexer": "ipython3",
   "version": "3.7.13"
  }
 },
 "nbformat": 4,
 "nbformat_minor": 5
}
